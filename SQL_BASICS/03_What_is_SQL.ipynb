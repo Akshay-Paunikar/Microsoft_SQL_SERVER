{
 "cells": [
  {
   "cell_type": "markdown",
   "metadata": {},
   "source": [
    "<h2>Structured Query Language (SQL)</h2>"
   ]
  },
  {
   "cell_type": "markdown",
   "metadata": {},
   "source": [
    "SQL stands for Structured Query Language and is a computer language that we use to interact with a relational database. SQL is a tool for organizing, managing, and retrieving archived data from a computer database.\n",
    "\n",
    "When data needs to be retrieved from a database, SQL is used to make the request. The DBMS processes the SQL query which retrieves the requested data and returns it to us.\n",
    "\n",
    "SQL statements describe how a collection of data should be organized or what data should be extracted or added to the database."
   ]
  },
  {
   "cell_type": "markdown",
   "metadata": {},
   "source": []
  }
 ],
 "metadata": {
  "kernelspec": {
   "display_name": "Python 3",
   "language": "python",
   "name": "python3"
  },
  "language_info": {
   "name": "python",
   "version": "3.11.4"
  }
 },
 "nbformat": 4,
 "nbformat_minor": 2
}
