{
 "cells": [
  {
   "cell_type": "markdown",
   "metadata": {},
   "source": [
    "<h2>Structured Query Language (SQL)</h2>"
   ]
  },
  {
   "cell_type": "markdown",
   "metadata": {},
   "source": [
    "SQL stands for Structured Query Language and is a computer language that we use to interact with a relational database. SQL is a tool for organizing, managing, and retrieving archived data from a computer database.\n",
    "\n",
    "When data needs to be retrieved from a database, SQL is used to make the request. The DBMS processes the SQL query which retrieves the requested data and returns it to us.\n",
    "\n",
    "SQL statements describe how a collection of data should be organized or what data should be extracted or added to the database."
   ]
  },
  {
   "cell_type": "markdown",
   "metadata": {},
   "source": [
    "<h3>What is SQL Server?</h3>\n",
    "\n",
    "Microsoft’s relational database management system, which uses SQL to manipulate data, is formally known as SQL Server. There are various editions of the MS SQL Server, and each is tailored for particular workloads and requirements.\n",
    "\n",
    "SQL statements resemble English sentences, complete with “noise words” that don’t add to the meaning of the statement but make it read more naturally. SQL has quite a few inconsistencies and also some special rules to prevent you from constructing SQL statements that look perfectly legal but that don’t make sense.\n",
    "\n",
    "Despite the inaccuracy of its name, SQL has emerged as the standard language for using relational databases. SQL is both a powerful language and one that is relatively easy to learn. So, SQL is a database management language. The database administrator is answerable for handling a minicomputer or mainframe database and makes use of SQL to outline the database shape and manipulate get entry to the saved data."
   ]
  },
  {
   "cell_type": "markdown",
   "metadata": {},
   "source": [
    "<h3>SQL Data types:</h3>\n",
    "\n",
    "An SQL developer must be aware of what type of data will be stored inside each column while creating a table. The data type guideline for SQL is to understand what type of data is expected inside each column and it also identifies how SQL will interact with the stored data.\n",
    "\n",
    "For every database, data types are primarily classified into three categories.\n",
    "\n",
    " - Numeric Datatypes:\n",
    "    - For example: BigInt, Int, smallint, tinyint, bit, decimal, numeric, money, smallmoney, Float, Real.\n",
    " \n",
    " - Date and Time Database:\n",
    "    - For example: DATE, TIME, DATETIME.\n",
    " \n",
    " - String Database:\n",
    "    - char, varchar, text etc."
   ]
  },
  {
   "cell_type": "markdown",
   "metadata": {},
   "source": []
  }
 ],
 "metadata": {
  "kernelspec": {
   "display_name": "Python 3",
   "language": "python",
   "name": "python3"
  },
  "language_info": {
   "name": "python",
   "version": "3.11.4"
  }
 },
 "nbformat": 4,
 "nbformat_minor": 2
}
