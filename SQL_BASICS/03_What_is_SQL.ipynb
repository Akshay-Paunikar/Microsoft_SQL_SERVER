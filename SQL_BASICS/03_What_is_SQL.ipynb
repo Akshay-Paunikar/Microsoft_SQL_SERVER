{
 "cells": [
  {
   "cell_type": "markdown",
   "metadata": {},
   "source": [
    "<h2>Structured Query Language (SQL)</h2>"
   ]
  },
  {
   "cell_type": "markdown",
   "metadata": {},
   "source": [
    "SQL stands for Structured Query Language and is a computer language that we use to interact with a relational database. SQL is a tool for organizing, managing, and retrieving archived data from a computer database.\n",
    "\n",
    "When data needs to be retrieved from a database, SQL is used to make the request. The DBMS processes the SQL query which retrieves the requested data and returns it to us.\n",
    "\n",
    "SQL statements describe how a collection of data should be organized or what data should be extracted or added to the database."
   ]
  },
  {
   "cell_type": "markdown",
   "metadata": {},
   "source": [
    "<h3>What is SQL Server?</h3>\n",
    "\n",
    "Microsoft’s relational database management system, which uses SQL to manipulate data, is formally known as SQL Server. There are various editions of the MS SQL Server, and each is tailored for particular workloads and requirements.\n",
    "\n",
    "SQL statements resemble English sentences, complete with “noise words” that don’t add to the meaning of the statement but make it read more naturally. SQL has quite a few inconsistencies and also some special rules to prevent you from constructing SQL statements that look perfectly legal but that don’t make sense.\n",
    "\n",
    "Despite the inaccuracy of its name, SQL has emerged as the standard language for using relational databases. SQL is both a powerful language and one that is relatively easy to learn. So, SQL is a database management language. The database administrator is answerable for handling a minicomputer or mainframe database and makes use of SQL to outline the database shape and manipulate get entry to the saved data."
   ]
  },
  {
   "cell_type": "markdown",
   "metadata": {},
   "source": [
    "<h3>SQL Data types:</h3>\n",
    "\n",
    "An SQL developer must be aware of what type of data will be stored inside each column while creating a table. The data type guideline for SQL is to understand what type of data is expected inside each column and it also identifies how SQL will interact with the stored data.\n",
    "\n",
    "For every database, data types are primarily classified into three categories.\n",
    "\n",
    " - Numeric Datatypes:\n",
    "    - For example: BigInt, Int, smallint, tinyint, bit, decimal, numeric, money, smallmoney, Float, Real.\n",
    " \n",
    " - Date and Time Database:\n",
    "    - For example: DATE, TIME, DATETIME.\n",
    " \n",
    " - String Database:\n",
    "    - char, varchar, text etc."
   ]
  },
  {
   "cell_type": "markdown",
   "metadata": {},
   "source": [
    "<h3>SQL Operators:</h3>\n",
    "\n",
    "Operators are the foundation of any programming language. We can define operators as symbols that help us to perform specific mathematical and logical computations on operands. In other words, we can say that an operator operates the operands. SQL operators have three different categories.\n",
    "\n",
    "<h4>Types of SQL Operators:</h4>\n",
    "\n",
    " - <b>1. Arithmetic Operators:</b>\n",
    "    - For example: Addition - \"+\", Substraction - \"-\", Multiplication - \"*\", Division - \"/\", Modulus - \"%\".\n",
    "\n",
    " - <b>2. Comparison Operators:</b>\n",
    "    - For example: Equal To - \"=\", Greater Than - \">\", Less Than - \"<\", Greater Than Equal To - \">=\", Less Than Equal To - \"<=\", Not Equal To - \"<>\".\n",
    "\n",
    " - <b>3. Logical Operators:</b>\n",
    "    - For example: AND, OR, NOT."
   ]
  },
  {
   "cell_type": "markdown",
   "metadata": {},
   "source": [
    "<h4>Special Operators:</h4>\n",
    "\n",
    " - <b>ALL:</b> ALL is used to select all records of a SELECT STATEMENT. It compares a value to every value in a list of results from a query. The ALL must be preceded by the comparison operators and evaluated to TRUE if the query returns no rows.\n",
    "\n",
    " - <b>ANY:</b> ANY compares a value to each value in a list of results from a query and evaluates to true if the result of an inner query contains at least one row.\n",
    "\n",
    " - <b>BETWEEN:</b> The SQL BETWEEN operator tests an expression against a range. The range consists of a beginning, followed by an AND keyword and an end expression.\n",
    "\n",
    " - <b>IN:</b> The IN operator checks a value within a set of values separated by commas and retrieves the rows from the table that match.\n",
    "\n",
    " - <b>EXISTS:</b> The EXISTS checks the existence of a result of a subquery. The EXISTS subquery tests whether a subquery fetches at least one row. When no data is returned then this operator returns 'FALSE'.\n",
    "\n",
    " - <b>SOME:</b> SOME operator evaluates the condition between the outer and inner tables and evaluates to true if the final result returns any one row. If not, then it evaluates to false.\n",
    "\n",
    " - <b>UNIQUE:</b> The UNIQUE operator searches every unique row of a specified table."
   ]
  },
  {
   "cell_type": "markdown",
   "metadata": {},
   "source": []
  }
 ],
 "metadata": {
  "kernelspec": {
   "display_name": "Python 3",
   "language": "python",
   "name": "python3"
  },
  "language_info": {
   "name": "python",
   "version": "3.11.4"
  }
 },
 "nbformat": 4,
 "nbformat_minor": 2
}
