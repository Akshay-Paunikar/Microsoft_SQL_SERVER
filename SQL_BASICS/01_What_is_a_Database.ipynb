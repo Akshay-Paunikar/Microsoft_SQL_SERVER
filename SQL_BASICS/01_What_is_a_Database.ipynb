{
 "cells": [
  {
   "cell_type": "markdown",
   "metadata": {},
   "source": [
    "<h2>SQL BASICS:</h2>\n",
    "\n",
    "SQL or Structured Query Language is a fundamental skill for anyone who wants to interact with databases. This SQL is used by all users to create, manage and retrieve data from relational databases."
   ]
  },
  {
   "cell_type": "markdown",
   "metadata": {},
   "source": [
    "<h3>What is Database?</h3>\n",
    "\n",
    "A database is an organized collection of data stored in a computer system and usually controlled by a database management system (DBMS). The data in common databases is modeled in tables, making querying and processing efficient. Structured query language (SQL) is commonly used for data querying and writing.\n",
    "\n",
    "A database is a collection of data that is organized, which is also called structured data. It can be accessed or stored in a computer system. It can be managed through a Database Management System (DBMS), a software used to manage data. Database refers to related data in a structured form.\n",
    "\n",
    "In a database, data is organized into tables consisting of rows and columns and it is indexed so data can be updated, expanded, and deleted easily.\n",
    "\n",
    "The Database is an essential part of our life. We encounter several activities that involve our interaction with databases, for example in the bank, in the railway station, in school, in a grocery store, etc. These are the instances where we need to store a large amount of data in one place and fetch these data easily. "
   ]
  },
  {
   "cell_type": "markdown",
   "metadata": {},
   "source": [
    "<h3>What is Data?</h3>\n",
    "\n",
    "Data is statically raw and unprocessed information. For example – name, class, marks, etc. In computer language, a piece of information that can be translated into a form for efficient movement and processing is called data. Data is interchangeable information."
   ]
  },
  {
   "cell_type": "markdown",
   "metadata": {},
   "source": []
  }
 ],
 "metadata": {
  "kernelspec": {
   "display_name": "Deep_Learning",
   "language": "python",
   "name": "python3"
  },
  "language_info": {
   "name": "python",
   "version": "3.9.18"
  }
 },
 "nbformat": 4,
 "nbformat_minor": 2
}
